{
 "cells": [
  {
   "cell_type": "markdown",
   "metadata": {},
   "source": [
    "### Contour Extraction"
   ]
  },
  {
   "cell_type": "code",
   "execution_count": 3,
   "metadata": {},
   "outputs": [
    {
     "data": {
      "text/plain": [
       "-1"
      ]
     },
     "execution_count": 3,
     "metadata": {},
     "output_type": "execute_result"
    }
   ],
   "source": [
    "import cv2  \n",
    "import numpy as np  \n",
    "img = cv2.imread(r'./hitchcock.png', 0)  \n",
    "  \n",
    "kernel = np.ones((5,5), np.uint8)  \n",
    "img_erosion = cv2.erode(img, kernel, iterations=1)  \n",
    "img_dilation = cv2.dilate(img, kernel, iterations=1)  \n",
    "\n",
    "img_contour = img_dilation - img\n",
    "img_contour2 = img_erosion - img\n",
    "cv2.imshow('Input', img_contour2)  \n",
    "cv2.imshow('Dilation', img_contour)  \n",
    "cv2.waitKey(0)  "
   ]
  },
  {
   "cell_type": "code",
   "execution_count": null,
   "metadata": {},
   "outputs": [],
   "source": []
  }
 ],
 "metadata": {
  "kernelspec": {
   "display_name": "Python 3",
   "language": "python",
   "name": "python3"
  },
  "language_info": {
   "codemirror_mode": {
    "name": "ipython",
    "version": 3
   },
   "file_extension": ".py",
   "mimetype": "text/x-python",
   "name": "python",
   "nbconvert_exporter": "python",
   "pygments_lexer": "ipython3",
   "version": "3.7.8"
  }
 },
 "nbformat": 4,
 "nbformat_minor": 4
}
